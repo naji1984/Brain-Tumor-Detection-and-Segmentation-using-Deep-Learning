{
  "nbformat": 4,
  "nbformat_minor": 0,
  "metadata": {
    "colab": {
      "name": "covid19.ipynb",
      "provenance": [],
      "include_colab_link": true
    },
    "kernelspec": {
      "name": "python3",
      "display_name": "Python 3"
    },
    "language_info": {
      "name": "python"
    }
  },
  "cells": [
    {
      "cell_type": "markdown",
      "metadata": {
        "id": "view-in-github",
        "colab_type": "text"
      },
      "source": [
        "<a href=\"https://colab.research.google.com/github/naji1984/Brain-Tumor-Detection-and-Segmentation-using-Deep-Learning/blob/master/covid19.ipynb\" target=\"_parent\"><img src=\"https://colab.research.google.com/assets/colab-badge.svg\" alt=\"Open In Colab\"/></a>"
      ]
    },
    {
      "cell_type": "code",
      "metadata": {
        "id": "cF6qs1mkxz4k"
      },
      "source": [
        "# install tensorflow version 2\n",
        "%tensorflow_version 2.x"
      ],
      "execution_count": null,
      "outputs": []
    },
    {
      "cell_type": "code",
      "metadata": {
        "colab": {
          "base_uri": "https://localhost:8080/"
        },
        "id": "EbW40nmCyB2a",
        "outputId": "51fe6300-f882-456d-ccb0-906f8edc8a51"
      },
      "source": [
        "# Upload google drive in our COLAB\n",
        "\n",
        "from google.colab import drive\n",
        "drive.mount('/content/drive')"
      ],
      "execution_count": null,
      "outputs": [
        {
          "output_type": "stream",
          "text": [
            "Mounted at /content/drive\n"
          ],
          "name": "stdout"
        }
      ]
    },
    {
      "cell_type": "code",
      "metadata": {
        "id": "slupeW4fyTQ-"
      },
      "source": [
        "# Importing librar\n",
        "\n",
        "import tensorflow.keras\n",
        "from tensorflow.keras.models import Model\n",
        "from tensorflow.keras.layers import Input, Dense, Activation, Flatten, Conv2D, MaxPool2D, Dropout\n",
        "from tensorflow.keras.optimizers import Adam \n",
        "from tensorflow.keras.preprocessing.image import ImageDataGenerator\n",
        "from tensorflow.keras.losses import binary_crossentropy\n",
        "from tensorflow.keras import metrics\n",
        "import matplotlib.pyplot as plt\n",
        "from sklearn.metrics import classification_report, confusion_matrix, plot_confusion_matrix, ConfusionMatrixDisplay\n",
        "import numpy as np"
      ],
      "execution_count": null,
      "outputs": []
    },
    {
      "cell_type": "code",
      "metadata": {
        "id": "8IGOonNcyXmi"
      },
      "source": [
        "# Create path\n",
        "\n",
        "train_loc = '/content/drive/My Drive/our_DATA/train/'\n",
        "test_loc = '/content/drive/My Drive/our_DATA/val/'"
      ],
      "execution_count": null,
      "outputs": []
    },
    {
      "cell_type": "code",
      "metadata": {
        "colab": {
          "base_uri": "https://localhost:8080/"
        },
        "id": "uULKnCHQydv4",
        "outputId": "0aeae2d0-8c39-4631-8b49-9210f85d70a3"
      },
      "source": [
        "# resize images \n",
        "\n",
        "trdata = ImageDataGenerator(rescale= 1./255,\n",
        "                            shear_range = 0.2,\n",
        "                            zoom_range = 0.2,\n",
        "                            horizontal_flip = True,\n",
        ")\n",
        "\n",
        "traindata = trdata.flow_from_directory(directory = train_loc, target_size = (224,224))\n",
        "\n",
        "tsdata = ImageDataGenerator(rescale= 1./255,\n",
        "                            shear_range = 0.2,\n",
        "                            zoom_range = 0.2,\n",
        "                            horizontal_flip = True,\n",
        ")\n",
        "\n",
        "testdata = tsdata.flow_from_directory(directory = test_loc, target_size = (224,224))"
      ],
      "execution_count": null,
      "outputs": [
        {
          "output_type": "stream",
          "text": [
            "Found 413 images belonging to 2 classes.\n",
            "Found 129 images belonging to 2 classes.\n"
          ],
          "name": "stdout"
        }
      ]
    },
    {
      "cell_type": "code",
      "metadata": {
        "colab": {
          "base_uri": "https://localhost:8080/"
        },
        "id": "w0kC26WXytCg",
        "outputId": "d7157e11-f164-44f2-b4e9-3c9a2abbe4aa"
      },
      "source": [
        "traindata.class_indices"
      ],
      "execution_count": null,
      "outputs": [
        {
          "output_type": "execute_result",
          "data": {
            "text/plain": [
              "{'Covid+': 0, 'Covid-': 1}"
            ]
          },
          "metadata": {
            "tags": []
          },
          "execution_count": 6
        }
      ]
    },
    {
      "cell_type": "code",
      "metadata": {
        "id": "0PIQc_iuy_7l"
      },
      "source": [
        "# define input image\n",
        "input_shape = (224,224,3)\n",
        "# create the Network\n",
        "# Input layer\n",
        "img_imput = Input(shape  = input_shape, name = 'img_input')\n",
        "\n",
        "# Convo layers\n",
        "x = Conv2D(32, (3,3) , padding = 'same' , activation='relu', name = 'layer_1') (img_imput)\n",
        "x = Conv2D(64, (3,3) , padding = 'same' , activation='relu', name = 'layer_2') (x)\n",
        "x = MaxPool2D((2,2), strides=(2,2), name = 'layer_3') (x)\n",
        "x = Dropout(0.25)(x)\n",
        "\n",
        "x = Conv2D(64, (3,3) , padding = 'same' , activation='relu', name = 'layer_4') (x)\n",
        "x = MaxPool2D((2,2), strides=(2,2), name = 'layer_5') (x)\n",
        "x = Dropout(0.25)(x)\n",
        "\n",
        "x = Conv2D(128, (3,3) , padding = 'same' , activation='relu', name = 'layer_6') (x)\n",
        "x = MaxPool2D((2,2), strides=(2,2), name = 'layer_7') (x)\n",
        "x = Dropout(0.25)(x)\n",
        "\n",
        "x = Flatten(name = 'layer_8')(x)\n",
        "x= Dense(64, name = 'layer_9')(x)\n",
        "x = Dropout(0.5) (x)\n",
        "x = Dense(2, activation='sigmoid', name='predictions')(x)\n"
      ],
      "execution_count": null,
      "outputs": []
    },
    {
      "cell_type": "code",
      "metadata": {
        "id": "3jgRpYUOEe4L"
      },
      "source": [
        "# Generate the model\n",
        "model = Model(inputs = img_imput, outputs =x , name='CNN_COVID_19')"
      ],
      "execution_count": null,
      "outputs": []
    },
    {
      "cell_type": "code",
      "metadata": {
        "colab": {
          "base_uri": "https://localhost:8080/"
        },
        "id": "ZMD-e1ziEthh",
        "outputId": "dea1df18-94de-4238-81f4-29183275fa10"
      },
      "source": [
        "# Print network structure\n",
        "model.summary()"
      ],
      "execution_count": null,
      "outputs": [
        {
          "output_type": "stream",
          "text": [
            "Model: \"CNN_COVID_19\"\n",
            "_________________________________________________________________\n",
            "Layer (type)                 Output Shape              Param #   \n",
            "=================================================================\n",
            "img_input (InputLayer)       [(None, 224, 224, 3)]     0         \n",
            "_________________________________________________________________\n",
            "layer_1 (Conv2D)             (None, 224, 224, 32)      896       \n",
            "_________________________________________________________________\n",
            "layer_2 (Conv2D)             (None, 224, 224, 64)      18496     \n",
            "_________________________________________________________________\n",
            "layer_3 (MaxPooling2D)       (None, 112, 112, 64)      0         \n",
            "_________________________________________________________________\n",
            "dropout_4 (Dropout)          (None, 112, 112, 64)      0         \n",
            "_________________________________________________________________\n",
            "layer_4 (Conv2D)             (None, 112, 112, 64)      36928     \n",
            "_________________________________________________________________\n",
            "layer_5 (MaxPooling2D)       (None, 56, 56, 64)        0         \n",
            "_________________________________________________________________\n",
            "dropout_5 (Dropout)          (None, 56, 56, 64)        0         \n",
            "_________________________________________________________________\n",
            "layer_6 (Conv2D)             (None, 56, 56, 128)       73856     \n",
            "_________________________________________________________________\n",
            "layer_7 (MaxPooling2D)       (None, 28, 28, 128)       0         \n",
            "_________________________________________________________________\n",
            "dropout_6 (Dropout)          (None, 28, 28, 128)       0         \n",
            "_________________________________________________________________\n",
            "layer_8 (Flatten)            (None, 100352)            0         \n",
            "_________________________________________________________________\n",
            "layer_9 (Dense)              (None, 64)                6422592   \n",
            "_________________________________________________________________\n",
            "dropout_7 (Dropout)          (None, 64)                0         \n",
            "_________________________________________________________________\n",
            "predictions (Dense)          (None, 2)                 130       \n",
            "=================================================================\n",
            "Total params: 6,552,898\n",
            "Trainable params: 6,552,898\n",
            "Non-trainable params: 0\n",
            "_________________________________________________________________\n"
          ],
          "name": "stdout"
        }
      ]
    },
    {
      "cell_type": "code",
      "metadata": {
        "id": "KVV16pBnE6P1"
      },
      "source": [
        "# Compiling the model\n",
        "model.compile(optimizer='adam', loss=binary_crossentropy, metrics=['accuracy'])"
      ],
      "execution_count": null,
      "outputs": []
    },
    {
      "cell_type": "code",
      "metadata": {
        "colab": {
          "base_uri": "https://localhost:8080/"
        },
        "id": "A6utP6Z9FIqu",
        "outputId": "49b14014-efd6-4b46-8192-cbcd421a5e9e"
      },
      "source": [
        "# start Train/Test\n",
        "batch_size = 32\n",
        "hist = model.fit(traindata, steps_per_epoch = traindata.samples//batch_size,\n",
        "                 validation_data = testdata,validation_steps = testdata.samples//batch_size,\n",
        "                 epochs = 20\n",
        "                 )"
      ],
      "execution_count": null,
      "outputs": [
        {
          "output_type": "stream",
          "text": [
            "Epoch 1/20\n",
            "12/12 [==============================] - 353s 29s/step - loss: 0.8715 - accuracy: 0.7165 - val_loss: 0.4640 - val_accuracy: 0.8359\n",
            "Epoch 2/20\n",
            "12/12 [==============================] - 106s 9s/step - loss: 0.3374 - accuracy: 0.8766 - val_loss: 0.3515 - val_accuracy: 0.8750\n",
            "Epoch 3/20\n",
            "12/12 [==============================] - 104s 9s/step - loss: 0.2422 - accuracy: 0.9186 - val_loss: 0.2086 - val_accuracy: 0.9297\n",
            "Epoch 4/20\n",
            "12/12 [==============================] - 106s 9s/step - loss: 0.2481 - accuracy: 0.9062 - val_loss: 0.3643 - val_accuracy: 0.9375\n",
            "Epoch 5/20\n",
            "12/12 [==============================] - 105s 9s/step - loss: 0.1311 - accuracy: 0.9449 - val_loss: 0.1355 - val_accuracy: 0.9609\n",
            "Epoch 6/20\n",
            "12/12 [==============================] - 104s 9s/step - loss: 0.0570 - accuracy: 0.9843 - val_loss: 0.0775 - val_accuracy: 0.9766\n",
            "Epoch 7/20\n",
            "12/12 [==============================] - 105s 9s/step - loss: 0.1286 - accuracy: 0.9583 - val_loss: 0.0566 - val_accuracy: 0.9766\n",
            "Epoch 8/20\n",
            "12/12 [==============================] - 104s 9s/step - loss: 0.0956 - accuracy: 0.9685 - val_loss: 0.2078 - val_accuracy: 0.9766\n",
            "Epoch 9/20\n",
            "12/12 [==============================] - 104s 9s/step - loss: 0.0617 - accuracy: 0.9843 - val_loss: 0.0324 - val_accuracy: 0.9922\n",
            "Epoch 10/20\n",
            "12/12 [==============================] - 104s 9s/step - loss: 0.0414 - accuracy: 0.9895 - val_loss: 0.0738 - val_accuracy: 0.9688\n",
            "Epoch 11/20\n",
            "12/12 [==============================] - 104s 9s/step - loss: 0.0645 - accuracy: 0.9869 - val_loss: 0.0993 - val_accuracy: 0.9844\n",
            "Epoch 12/20\n",
            "12/12 [==============================] - 104s 9s/step - loss: 0.1128 - accuracy: 0.9738 - val_loss: 0.0619 - val_accuracy: 0.9844\n",
            "Epoch 13/20\n",
            "12/12 [==============================] - 104s 9s/step - loss: 0.0601 - accuracy: 0.9843 - val_loss: 0.1098 - val_accuracy: 0.9688\n",
            "Epoch 14/20\n",
            "12/12 [==============================] - 104s 9s/step - loss: 0.0582 - accuracy: 0.9895 - val_loss: 0.0723 - val_accuracy: 0.9609\n",
            "Epoch 15/20\n",
            "12/12 [==============================] - 104s 9s/step - loss: 0.0918 - accuracy: 0.9606 - val_loss: 0.1963 - val_accuracy: 0.9375\n",
            "Epoch 16/20\n",
            "12/12 [==============================] - 104s 9s/step - loss: 0.0621 - accuracy: 0.9843 - val_loss: 0.1023 - val_accuracy: 0.9688\n",
            "Epoch 17/20\n",
            "12/12 [==============================] - 104s 9s/step - loss: 0.0151 - accuracy: 0.9948 - val_loss: 0.0318 - val_accuracy: 0.9844\n",
            "Epoch 18/20\n",
            "12/12 [==============================] - 104s 9s/step - loss: 0.0242 - accuracy: 0.9948 - val_loss: 0.0485 - val_accuracy: 0.9766\n",
            "Epoch 19/20\n",
            "12/12 [==============================] - 104s 9s/step - loss: 0.0282 - accuracy: 0.9921 - val_loss: 0.0275 - val_accuracy: 0.9922\n",
            "Epoch 20/20\n",
            "12/12 [==============================] - 104s 9s/step - loss: 0.0576 - accuracy: 0.9948 - val_loss: 0.0909 - val_accuracy: 0.9766\n"
          ],
          "name": "stdout"
        }
      ]
    },
    {
      "cell_type": "code",
      "metadata": {
        "colab": {
          "base_uri": "https://localhost:8080/",
          "height": 281
        },
        "id": "Fw5uKrZGWM8L",
        "outputId": "a04bb40a-fac7-4744-a718-7973352bce4a"
      },
      "source": [
        "plt.plot(hist.history['loss'], label = 'train')\n",
        "plt.plot(hist.history['val_loss'], label = 'val')\n",
        "plt.title('CNN_COVID_19 :  Loss  &  Validation Loss')\n",
        "plt.legend()\n",
        "plt.show()"
      ],
      "execution_count": null,
      "outputs": [
        {
          "output_type": "display_data",
          "data": {
            "image/png": "[encoded data removed]",
            "text/plain": [
              "<Figure size 432x288 with 1 Axes>"
            ]
          },
          "metadata": {
            "tags": [],
            "needs_background": "light"
          }
        }
      ]
    },
    {
      "cell_type": "code",
      "metadata": {
        "colab": {
          "base_uri": "https://localhost:8080/",
          "height": 281
        },
        "id": "kKcqCK-DWVVb",
        "outputId": "00db3311-d671-467c-9973-11b7d0d3b65c"
      },
      "source": [
        "plt.plot(hist.history['accuracy'], label = 'train')\n",
        "plt.plot(hist.history['val_accuracy'], label = 'val')\n",
        "plt.title('CNN_COVID_19 :  Accuracy  &  Validation Accuracy')\n",
        "plt.legend()\n",
        "plt.show()"
      ],
      "execution_count": null,
      "outputs": [
        {
          "output_type": "display_data",
          "data": {
            "image/png": "[encoded data removed]",
            "text/plain": [
              "<Figure size 432x288 with 1 Axes>"
            ]
          },
          "metadata": {
            "tags": [],
            "needs_background": "light"
          }
        }
      ]
    },
    {
      "cell_type": "code",
      "metadata": {
        "colab": {
          "base_uri": "https://localhost:8080/",
          "height": 546
        },
        "id": "BSZX27rmX3mD",
        "outputId": "e0d2c7f6-4fae-4aea-8c83-3d74fb83ecd5"
      },
      "source": [
        "# Confusion Matrix  & Pres  & Recall   & F1-Score\n",
        "\n",
        "target_names = ['COVID+', 'COVID-']\n",
        "label_names = [0,1]\n",
        "\n",
        "Y_pred = model.predict_generator(testdata)\n",
        "y_pred = np.argmax(Y_pred ,  axis = 1)\n",
        "\n",
        "cm = confusion_matrix(testdata.classes, y_pred, labels = label_names)\n",
        "\n",
        "\n",
        "print('Confusion Matrix')\n",
        "print(confusion_matrix(testdata.classes, y_pred))\n",
        "\n",
        "print('classification_Report')\n",
        "print(classification_report(testdata.classes, y_pred, target_names=target_names))\n",
        "\n",
        "disp = ConfusionMatrixDisplay(confusion_matrix= cm, display_labels=target_names)\n",
        "disp = disp.plot(cmap=plt.cm.Blues, values_format = 'g')\n",
        "plt.show()"
      ],
      "execution_count": null,
      "outputs": [
        {
          "output_type": "stream",
          "text": [
            "/usr/local/lib/python3.7/dist-packages/tensorflow/python/keras/engine/training.py:2001: UserWarning: `Model.predict_generator` is deprecated and will be removed in a future version. Please use `Model.predict`, which supports generators.\n",
            "  warnings.warn('`Model.predict_generator` is deprecated and '\n"
          ],
          "name": "stderr"
        },
        {
          "output_type": "stream",
          "text": [
            "Confusion Matrix\n",
            "[[36 33]\n",
            " [28 32]]\n",
            "classification_Report\n",
            "              precision    recall  f1-score   support\n",
            "\n",
            "      COVID+       0.56      0.52      0.54        69\n",
            "      COVID-       0.49      0.53      0.51        60\n",
            "\n",
            "    accuracy                           0.53       129\n",
            "   macro avg       0.53      0.53      0.53       129\n",
            "weighted avg       0.53      0.53      0.53       129\n",
            "\n"
          ],
          "name": "stdout"
        },
        {
          "output_type": "display_data",
          "data": {
            "image/png": "[encoded data removed]",
            "text/plain": [
              "<Figure size 432x288 with 2 Axes>"
            ]
          },
          "metadata": {
            "tags": [],
            "needs_background": "light"
          }
        }
      ]
    }
  ]
}